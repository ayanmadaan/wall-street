{
 "cells": [
  {
   "cell_type": "code",
   "execution_count": 1,
   "id": "6cc16224",
   "metadata": {},
   "outputs": [],
   "source": [
    "import pandas as pd\n",
    "import numpy as np\n",
    "import matplotlib.pyplot as plt\n",
    "import yfinance as yf"
   ]
  },
  {
   "cell_type": "code",
   "execution_count": 183,
   "id": "179a600e",
   "metadata": {},
   "outputs": [
    {
     "name": "stdout",
     "output_type": "stream",
     "text": [
      "[*********************100%***********************]  1 of 1 completed\n"
     ]
    },
    {
     "data": {
      "text/html": [
       "<div>\n",
       "<style scoped>\n",
       "    .dataframe tbody tr th:only-of-type {\n",
       "        vertical-align: middle;\n",
       "    }\n",
       "\n",
       "    .dataframe tbody tr th {\n",
       "        vertical-align: top;\n",
       "    }\n",
       "\n",
       "    .dataframe thead th {\n",
       "        text-align: right;\n",
       "    }\n",
       "</style>\n",
       "<table border=\"1\" class=\"dataframe\">\n",
       "  <thead>\n",
       "    <tr style=\"text-align: right;\">\n",
       "      <th></th>\n",
       "      <th>Open</th>\n",
       "      <th>High</th>\n",
       "      <th>Low</th>\n",
       "      <th>Close</th>\n",
       "      <th>Adj Close</th>\n",
       "      <th>Volume</th>\n",
       "    </tr>\n",
       "  </thead>\n",
       "  <tbody>\n",
       "    <tr>\n",
       "      <th>2022-04-04 09:15:00+05:30</th>\n",
       "      <td>17809.099609</td>\n",
       "      <td>18087.250000</td>\n",
       "      <td>17796.250000</td>\n",
       "      <td>18064.800781</td>\n",
       "      <td>18064.800781</td>\n",
       "      <td>0</td>\n",
       "    </tr>\n",
       "    <tr>\n",
       "      <th>2022-04-04 10:15:00+05:30</th>\n",
       "      <td>18067.699219</td>\n",
       "      <td>18079.900391</td>\n",
       "      <td>17962.900391</td>\n",
       "      <td>17975.050781</td>\n",
       "      <td>17975.050781</td>\n",
       "      <td>0</td>\n",
       "    </tr>\n",
       "    <tr>\n",
       "      <th>2022-04-04 11:15:00+05:30</th>\n",
       "      <td>17975.599609</td>\n",
       "      <td>18029.800781</td>\n",
       "      <td>17923.099609</td>\n",
       "      <td>17924.699219</td>\n",
       "      <td>17924.699219</td>\n",
       "      <td>0</td>\n",
       "    </tr>\n",
       "    <tr>\n",
       "      <th>2022-04-04 12:15:00+05:30</th>\n",
       "      <td>17924.449219</td>\n",
       "      <td>17979.900391</td>\n",
       "      <td>17888.199219</td>\n",
       "      <td>17975.150391</td>\n",
       "      <td>17975.150391</td>\n",
       "      <td>0</td>\n",
       "    </tr>\n",
       "    <tr>\n",
       "      <th>2022-04-04 13:15:00+05:30</th>\n",
       "      <td>17975.199219</td>\n",
       "      <td>18016.699219</td>\n",
       "      <td>17964.199219</td>\n",
       "      <td>17993.849609</td>\n",
       "      <td>17993.849609</td>\n",
       "      <td>0</td>\n",
       "    </tr>\n",
       "    <tr>\n",
       "      <th>...</th>\n",
       "      <td>...</td>\n",
       "      <td>...</td>\n",
       "      <td>...</td>\n",
       "      <td>...</td>\n",
       "      <td>...</td>\n",
       "      <td>...</td>\n",
       "    </tr>\n",
       "    <tr>\n",
       "      <th>2022-05-02 12:15:00+05:30</th>\n",
       "      <td>17024.349609</td>\n",
       "      <td>17045.550781</td>\n",
       "      <td>16983.849609</td>\n",
       "      <td>17021.000000</td>\n",
       "      <td>17021.000000</td>\n",
       "      <td>0</td>\n",
       "    </tr>\n",
       "    <tr>\n",
       "      <th>2022-05-02 13:15:00+05:30</th>\n",
       "      <td>17021.650391</td>\n",
       "      <td>17031.949219</td>\n",
       "      <td>16981.150391</td>\n",
       "      <td>17014.050781</td>\n",
       "      <td>17014.050781</td>\n",
       "      <td>0</td>\n",
       "    </tr>\n",
       "    <tr>\n",
       "      <th>2022-05-02 14:15:00+05:30</th>\n",
       "      <td>17014.050781</td>\n",
       "      <td>17091.849609</td>\n",
       "      <td>16971.900391</td>\n",
       "      <td>17069.349609</td>\n",
       "      <td>17069.349609</td>\n",
       "      <td>0</td>\n",
       "    </tr>\n",
       "    <tr>\n",
       "      <th>2022-05-02 15:15:00+05:30</th>\n",
       "      <td>17068.550781</td>\n",
       "      <td>17077.000000</td>\n",
       "      <td>17056.250000</td>\n",
       "      <td>17064.699219</td>\n",
       "      <td>17064.699219</td>\n",
       "      <td>0</td>\n",
       "    </tr>\n",
       "    <tr>\n",
       "      <th>2022-05-02 15:30:00+05:30</th>\n",
       "      <td>17069.099609</td>\n",
       "      <td>17069.099609</td>\n",
       "      <td>17069.099609</td>\n",
       "      <td>17069.099609</td>\n",
       "      <td>17069.099609</td>\n",
       "      <td>0</td>\n",
       "    </tr>\n",
       "  </tbody>\n",
       "</table>\n",
       "<p>134 rows × 6 columns</p>\n",
       "</div>"
      ],
      "text/plain": [
       "                                   Open          High           Low  \\\n",
       "2022-04-04 09:15:00+05:30  17809.099609  18087.250000  17796.250000   \n",
       "2022-04-04 10:15:00+05:30  18067.699219  18079.900391  17962.900391   \n",
       "2022-04-04 11:15:00+05:30  17975.599609  18029.800781  17923.099609   \n",
       "2022-04-04 12:15:00+05:30  17924.449219  17979.900391  17888.199219   \n",
       "2022-04-04 13:15:00+05:30  17975.199219  18016.699219  17964.199219   \n",
       "...                                 ...           ...           ...   \n",
       "2022-05-02 12:15:00+05:30  17024.349609  17045.550781  16983.849609   \n",
       "2022-05-02 13:15:00+05:30  17021.650391  17031.949219  16981.150391   \n",
       "2022-05-02 14:15:00+05:30  17014.050781  17091.849609  16971.900391   \n",
       "2022-05-02 15:15:00+05:30  17068.550781  17077.000000  17056.250000   \n",
       "2022-05-02 15:30:00+05:30  17069.099609  17069.099609  17069.099609   \n",
       "\n",
       "                                  Close     Adj Close  Volume  \n",
       "2022-04-04 09:15:00+05:30  18064.800781  18064.800781       0  \n",
       "2022-04-04 10:15:00+05:30  17975.050781  17975.050781       0  \n",
       "2022-04-04 11:15:00+05:30  17924.699219  17924.699219       0  \n",
       "2022-04-04 12:15:00+05:30  17975.150391  17975.150391       0  \n",
       "2022-04-04 13:15:00+05:30  17993.849609  17993.849609       0  \n",
       "...                                 ...           ...     ...  \n",
       "2022-05-02 12:15:00+05:30  17021.000000  17021.000000       0  \n",
       "2022-05-02 13:15:00+05:30  17014.050781  17014.050781       0  \n",
       "2022-05-02 14:15:00+05:30  17069.349609  17069.349609       0  \n",
       "2022-05-02 15:15:00+05:30  17064.699219  17064.699219       0  \n",
       "2022-05-02 15:30:00+05:30  17069.099609  17069.099609       0  \n",
       "\n",
       "[134 rows x 6 columns]"
      ]
     },
     "execution_count": 183,
     "metadata": {},
     "output_type": "execute_result"
    }
   ],
   "source": [
    "stock = yf.download('^NSEI', period='1mo', interval='1h')\n",
    "stock"
   ]
  },
  {
   "cell_type": "code",
   "execution_count": 184,
   "id": "1d1f2b07",
   "metadata": {},
   "outputs": [
    {
     "name": "stderr",
     "output_type": "stream",
     "text": [
      "C:\\Users\\Useer\\AppData\\Local\\Temp/ipykernel_6708/2628326792.py:1: FutureWarning: In a future version of pandas all arguments of DataFrame.drop except for the argument 'labels' will be keyword-only\n",
      "  stock = stock.drop(['High', 'Low', 'Adj Close', 'Volume'], 1)\n"
     ]
    }
   ],
   "source": [
    "stock = stock.drop(['High', 'Low', 'Adj Close', 'Volume'], 1)"
   ]
  },
  {
   "cell_type": "code",
   "execution_count": 185,
   "id": "a545a988",
   "metadata": {},
   "outputs": [
    {
     "data": {
      "text/html": [
       "<div>\n",
       "<style scoped>\n",
       "    .dataframe tbody tr th:only-of-type {\n",
       "        vertical-align: middle;\n",
       "    }\n",
       "\n",
       "    .dataframe tbody tr th {\n",
       "        vertical-align: top;\n",
       "    }\n",
       "\n",
       "    .dataframe thead th {\n",
       "        text-align: right;\n",
       "    }\n",
       "</style>\n",
       "<table border=\"1\" class=\"dataframe\">\n",
       "  <thead>\n",
       "    <tr style=\"text-align: right;\">\n",
       "      <th></th>\n",
       "      <th>Open</th>\n",
       "      <th>Close</th>\n",
       "    </tr>\n",
       "  </thead>\n",
       "  <tbody>\n",
       "    <tr>\n",
       "      <th>2022-04-04 09:15:00+05:30</th>\n",
       "      <td>17809.099609</td>\n",
       "      <td>18064.800781</td>\n",
       "    </tr>\n",
       "    <tr>\n",
       "      <th>2022-04-04 10:15:00+05:30</th>\n",
       "      <td>18067.699219</td>\n",
       "      <td>17975.050781</td>\n",
       "    </tr>\n",
       "    <tr>\n",
       "      <th>2022-04-04 11:15:00+05:30</th>\n",
       "      <td>17975.599609</td>\n",
       "      <td>17924.699219</td>\n",
       "    </tr>\n",
       "    <tr>\n",
       "      <th>2022-04-04 12:15:00+05:30</th>\n",
       "      <td>17924.449219</td>\n",
       "      <td>17975.150391</td>\n",
       "    </tr>\n",
       "    <tr>\n",
       "      <th>2022-04-04 13:15:00+05:30</th>\n",
       "      <td>17975.199219</td>\n",
       "      <td>17993.849609</td>\n",
       "    </tr>\n",
       "    <tr>\n",
       "      <th>...</th>\n",
       "      <td>...</td>\n",
       "      <td>...</td>\n",
       "    </tr>\n",
       "    <tr>\n",
       "      <th>2022-05-02 12:15:00+05:30</th>\n",
       "      <td>17024.349609</td>\n",
       "      <td>17021.000000</td>\n",
       "    </tr>\n",
       "    <tr>\n",
       "      <th>2022-05-02 13:15:00+05:30</th>\n",
       "      <td>17021.650391</td>\n",
       "      <td>17014.050781</td>\n",
       "    </tr>\n",
       "    <tr>\n",
       "      <th>2022-05-02 14:15:00+05:30</th>\n",
       "      <td>17014.050781</td>\n",
       "      <td>17069.349609</td>\n",
       "    </tr>\n",
       "    <tr>\n",
       "      <th>2022-05-02 15:15:00+05:30</th>\n",
       "      <td>17068.550781</td>\n",
       "      <td>17064.699219</td>\n",
       "    </tr>\n",
       "    <tr>\n",
       "      <th>2022-05-02 15:30:00+05:30</th>\n",
       "      <td>17069.099609</td>\n",
       "      <td>17069.099609</td>\n",
       "    </tr>\n",
       "  </tbody>\n",
       "</table>\n",
       "<p>134 rows × 2 columns</p>\n",
       "</div>"
      ],
      "text/plain": [
       "                                   Open         Close\n",
       "2022-04-04 09:15:00+05:30  17809.099609  18064.800781\n",
       "2022-04-04 10:15:00+05:30  18067.699219  17975.050781\n",
       "2022-04-04 11:15:00+05:30  17975.599609  17924.699219\n",
       "2022-04-04 12:15:00+05:30  17924.449219  17975.150391\n",
       "2022-04-04 13:15:00+05:30  17975.199219  17993.849609\n",
       "...                                 ...           ...\n",
       "2022-05-02 12:15:00+05:30  17024.349609  17021.000000\n",
       "2022-05-02 13:15:00+05:30  17021.650391  17014.050781\n",
       "2022-05-02 14:15:00+05:30  17014.050781  17069.349609\n",
       "2022-05-02 15:15:00+05:30  17068.550781  17064.699219\n",
       "2022-05-02 15:30:00+05:30  17069.099609  17069.099609\n",
       "\n",
       "[134 rows x 2 columns]"
      ]
     },
     "execution_count": 185,
     "metadata": {},
     "output_type": "execute_result"
    }
   ],
   "source": [
    "stock"
   ]
  },
  {
   "cell_type": "code",
   "execution_count": null,
   "id": "493e0db4",
   "metadata": {},
   "outputs": [],
   "source": []
  },
  {
   "cell_type": "code",
   "execution_count": 186,
   "id": "6e6fcb6e",
   "metadata": {},
   "outputs": [],
   "source": [
    "def macd(price, slow, fast, signal):\n",
    "    fastLine = price.ewm(span=fast, adjust = True).mean()\n",
    "    slowLine = price.ewm(span=slow, adjust=True).mean()\n",
    "    macdLine = pd.DataFrame(fastLine-slowLine).rename(columns = {'Close': 'macdLine'})\n",
    "    signalLine = pd.DataFrame(macdLine.ewm(span = signal, adjust = True).mean()).rename(columns={'macdLine':'signalLine'})\n",
    "    histogram = pd.DataFrame(macdLine['macdLine'] - signalLine['signalLine']).rename(columns = {0:'histogram'})\n",
    "    frames = [macdLine, signalLine, histogram]\n",
    "    df = pd.concat(frames, join='inner', axis=1)\n",
    "    return df"
   ]
  },
  {
   "cell_type": "code",
   "execution_count": 187,
   "id": "d1a04902",
   "metadata": {},
   "outputs": [],
   "source": [
    "macd = macd(stock, 10,3,16)"
   ]
  },
  {
   "cell_type": "code",
   "execution_count": 188,
   "id": "a0aa9e15",
   "metadata": {},
   "outputs": [
    {
     "data": {
      "text/html": [
       "<div>\n",
       "<style scoped>\n",
       "    .dataframe tbody tr th:only-of-type {\n",
       "        vertical-align: middle;\n",
       "    }\n",
       "\n",
       "    .dataframe tbody tr th {\n",
       "        vertical-align: top;\n",
       "    }\n",
       "\n",
       "    .dataframe thead th {\n",
       "        text-align: right;\n",
       "    }\n",
       "</style>\n",
       "<table border=\"1\" class=\"dataframe\">\n",
       "  <thead>\n",
       "    <tr style=\"text-align: right;\">\n",
       "      <th></th>\n",
       "      <th>Open</th>\n",
       "      <th>macdLine</th>\n",
       "      <th>Open</th>\n",
       "      <th>signalLine</th>\n",
       "      <th>histogram</th>\n",
       "    </tr>\n",
       "  </thead>\n",
       "  <tbody>\n",
       "    <tr>\n",
       "      <th>2022-04-04 09:15:00+05:30</th>\n",
       "      <td>0.000000</td>\n",
       "      <td>0.000000</td>\n",
       "      <td>0.000000</td>\n",
       "      <td>0.000000</td>\n",
       "      <td>0.000000</td>\n",
       "    </tr>\n",
       "    <tr>\n",
       "      <th>2022-04-04 10:15:00+05:30</th>\n",
       "      <td>30.169954</td>\n",
       "      <td>-10.470833</td>\n",
       "      <td>16.027788</td>\n",
       "      <td>-5.562630</td>\n",
       "      <td>-4.908203</td>\n",
       "    </tr>\n",
       "    <tr>\n",
       "      <th>2022-04-04 11:15:00+05:30</th>\n",
       "      <td>17.042210</td>\n",
       "      <td>-19.861893</td>\n",
       "      <td>16.409021</td>\n",
       "      <td>-10.936475</td>\n",
       "      <td>-8.925417</td>\n",
       "    </tr>\n",
       "    <tr>\n",
       "      <th>2022-04-04 12:15:00+05:30</th>\n",
       "      <td>0.483630</td>\n",
       "      <td>-10.045941</td>\n",
       "      <td>11.652124</td>\n",
       "      <td>-10.670474</td>\n",
       "      <td>0.624532</td>\n",
       "    </tr>\n",
       "    <tr>\n",
       "      <th>2022-04-04 13:15:00+05:30</th>\n",
       "      <td>6.231508</td>\n",
       "      <td>-1.163168</td>\n",
       "      <td>10.281200</td>\n",
       "      <td>-8.265988</td>\n",
       "      <td>7.102821</td>\n",
       "    </tr>\n",
       "    <tr>\n",
       "      <th>...</th>\n",
       "      <td>...</td>\n",
       "      <td>...</td>\n",
       "      <td>...</td>\n",
       "      <td>...</td>\n",
       "      <td>...</td>\n",
       "    </tr>\n",
       "    <tr>\n",
       "      <th>2022-05-02 12:15:00+05:30</th>\n",
       "      <td>-88.078611</td>\n",
       "      <td>-76.111590</td>\n",
       "      <td>-23.878151</td>\n",
       "      <td>-23.392845</td>\n",
       "      <td>-52.718745</td>\n",
       "    </tr>\n",
       "    <tr>\n",
       "      <th>2022-05-02 13:15:00+05:30</th>\n",
       "      <td>-69.022084</td>\n",
       "      <td>-64.862894</td>\n",
       "      <td>-29.189202</td>\n",
       "      <td>-28.271674</td>\n",
       "      <td>-36.591220</td>\n",
       "    </tr>\n",
       "    <tr>\n",
       "      <th>2022-05-02 14:15:00+05:30</th>\n",
       "      <td>-57.369555</td>\n",
       "      <td>-36.769447</td>\n",
       "      <td>-32.504538</td>\n",
       "      <td>-29.271412</td>\n",
       "      <td>-7.498034</td>\n",
       "    </tr>\n",
       "    <tr>\n",
       "      <th>2022-05-02 15:15:00+05:30</th>\n",
       "      <td>-30.046288</td>\n",
       "      <td>-23.413666</td>\n",
       "      <td>-32.215332</td>\n",
       "      <td>-28.582266</td>\n",
       "      <td>5.168600</td>\n",
       "    </tr>\n",
       "    <tr>\n",
       "      <th>2022-05-02 15:30:00+05:30</th>\n",
       "      <td>-15.962480</td>\n",
       "      <td>-14.421298</td>\n",
       "      <td>-30.303232</td>\n",
       "      <td>-26.916269</td>\n",
       "      <td>12.494972</td>\n",
       "    </tr>\n",
       "  </tbody>\n",
       "</table>\n",
       "<p>134 rows × 5 columns</p>\n",
       "</div>"
      ],
      "text/plain": [
       "                                Open   macdLine       Open  signalLine  \\\n",
       "2022-04-04 09:15:00+05:30   0.000000   0.000000   0.000000    0.000000   \n",
       "2022-04-04 10:15:00+05:30  30.169954 -10.470833  16.027788   -5.562630   \n",
       "2022-04-04 11:15:00+05:30  17.042210 -19.861893  16.409021  -10.936475   \n",
       "2022-04-04 12:15:00+05:30   0.483630 -10.045941  11.652124  -10.670474   \n",
       "2022-04-04 13:15:00+05:30   6.231508  -1.163168  10.281200   -8.265988   \n",
       "...                              ...        ...        ...         ...   \n",
       "2022-05-02 12:15:00+05:30 -88.078611 -76.111590 -23.878151  -23.392845   \n",
       "2022-05-02 13:15:00+05:30 -69.022084 -64.862894 -29.189202  -28.271674   \n",
       "2022-05-02 14:15:00+05:30 -57.369555 -36.769447 -32.504538  -29.271412   \n",
       "2022-05-02 15:15:00+05:30 -30.046288 -23.413666 -32.215332  -28.582266   \n",
       "2022-05-02 15:30:00+05:30 -15.962480 -14.421298 -30.303232  -26.916269   \n",
       "\n",
       "                           histogram  \n",
       "2022-04-04 09:15:00+05:30   0.000000  \n",
       "2022-04-04 10:15:00+05:30  -4.908203  \n",
       "2022-04-04 11:15:00+05:30  -8.925417  \n",
       "2022-04-04 12:15:00+05:30   0.624532  \n",
       "2022-04-04 13:15:00+05:30   7.102821  \n",
       "...                              ...  \n",
       "2022-05-02 12:15:00+05:30 -52.718745  \n",
       "2022-05-02 13:15:00+05:30 -36.591220  \n",
       "2022-05-02 14:15:00+05:30  -7.498034  \n",
       "2022-05-02 15:15:00+05:30   5.168600  \n",
       "2022-05-02 15:30:00+05:30  12.494972  \n",
       "\n",
       "[134 rows x 5 columns]"
      ]
     },
     "execution_count": 188,
     "metadata": {},
     "output_type": "execute_result"
    }
   ],
   "source": [
    "macd"
   ]
  },
  {
   "cell_type": "code",
   "execution_count": 189,
   "id": "923c3c5e",
   "metadata": {},
   "outputs": [],
   "source": [
    "def plotMACD(prices, macdLine, signalLine, histogram):\n",
    "    axis1 = plt.subplot2grid((8,1), (0,0), rowspan=5, colspan=1)\n",
    "    axis2 = plt.subplot2grid((8,1), (5,0), rowspan=3, colspan=1)\n",
    "    \n",
    "    axis1.plot(prices)\n",
    "    axis2.plot(macdLine, color='blue', linewidth=1.5, label='MACD Line')\n",
    "    axis2.plot(signalLine, color='red', linewidth=1.5, label='Signal Line')\n",
    "    \n",
    "    for i in range(len(prices)):\n",
    "        if str(histogram[i])[0] == '-':\n",
    "            axis2.bar(prices.index[i], histogram[i], color='red')\n",
    "        else:\n",
    "            axis2.bar(prices.index[i], histogram[i], color='green')\n",
    "    \n",
    "    plt.legend(loc='lower right')\n",
    "    plt.show\n",
    "    "
   ]
  },
  {
   "cell_type": "code",
   "execution_count": 190,
   "id": "cd6d4b5c",
   "metadata": {},
   "outputs": [
    {
     "data": {
      "image/png": "[encoded data removed]",
      "text/plain": [
       "<Figure size 432x288 with 2 Axes>"
      ]
     },
     "metadata": {
      "needs_background": "light"
     },
     "output_type": "display_data"
    }
   ],
   "source": [
    "plotMACD(stock, macd['macdLine'], macd['signalLine'], macd['histogram'])"
   ]
  },
  {
   "cell_type": "code",
   "execution_count": 191,
   "id": "6df0d959",
   "metadata": {},
   "outputs": [],
   "source": [
    "Buy, Sell = [], []\n",
    "\n",
    "for i in range(2, len(macd)):\n",
    "    if macd.macdLine.iloc[i] > macd.signalLine.iloc[i] and macd.macdLine.iloc[i-1] < macd.signalLine.iloc[i-1]:\n",
    "        Buy.append(i)\n",
    "    elif macd.macdLine.iloc[i] < macd.signalLine.iloc[i] and macd.macdLine.iloc[i-1] > macd.signalLine.iloc[i-1]:\n",
    "        Sell.append(i)"
   ]
  },
  {
   "cell_type": "code",
   "execution_count": 192,
   "id": "e87ff3cc",
   "metadata": {},
   "outputs": [
    {
     "data": {
      "image/png": "[encoded data removed]",
      "text/plain": [
       "<Figure size 864x288 with 1 Axes>"
      ]
     },
     "metadata": {
      "needs_background": "light"
     },
     "output_type": "display_data"
    }
   ],
   "source": [
    "plt.figure(figsize=(12,4))\n",
    "plt.scatter(stock.iloc[Buy].index, stock.iloc[Buy].Close, marker='>', color='green')\n",
    "plt.scatter(stock.iloc[Sell].index, stock.iloc[Sell].Close, marker='<', color='red')\n",
    "plt.plot(stock.Close, label='Close', color='k')\n",
    "plt.legend()\n",
    "plt.show()"
   ]
  },
  {
   "cell_type": "code",
   "execution_count": 196,
   "id": "d825b1f4",
   "metadata": {},
   "outputs": [
    {
     "data": {
      "text/plain": [
       "8"
      ]
     },
     "execution_count": 196,
     "metadata": {},
     "output_type": "execute_result"
    }
   ],
   "source": [
    "len(Buy)\n"
   ]
  },
  {
   "cell_type": "code",
   "execution_count": 197,
   "id": "162de0eb",
   "metadata": {},
   "outputs": [
    {
     "data": {
      "text/plain": [
       "8"
      ]
     },
     "execution_count": 197,
     "metadata": {},
     "output_type": "execute_result"
    }
   ],
   "source": [
    "len(Sell)\n"
   ]
  },
  {
   "cell_type": "code",
   "execution_count": 198,
   "id": "2e36f42a",
   "metadata": {},
   "outputs": [],
   "source": [
    "RealBuys = [i+1 for i in Buy]\n",
    "RealSells = [i+1 for i in Sell]"
   ]
  },
  {
   "cell_type": "code",
   "execution_count": 199,
   "id": "8c2c8f07",
   "metadata": {},
   "outputs": [
    {
     "data": {
      "text/plain": [
       "8"
      ]
     },
     "execution_count": 199,
     "metadata": {},
     "output_type": "execute_result"
    }
   ],
   "source": [
    "len(RealSells)\n"
   ]
  },
  {
   "cell_type": "code",
   "execution_count": 200,
   "id": "d6f83f88",
   "metadata": {},
   "outputs": [
    {
     "data": {
      "text/plain": [
       "8"
      ]
     },
     "execution_count": 200,
     "metadata": {},
     "output_type": "execute_result"
    }
   ],
   "source": [
    "len(RealBuys)"
   ]
  },
  {
   "cell_type": "code",
   "execution_count": 201,
   "id": "c3c126d2",
   "metadata": {
    "scrolled": true
   },
   "outputs": [],
   "source": [
    "BuyPrice = stock.Open[RealBuys]\n",
    "SellPrice = stock.Open[RealSells]"
   ]
  },
  {
   "cell_type": "code",
   "execution_count": 202,
   "id": "1670e1a4",
   "metadata": {},
   "outputs": [
    {
     "data": {
      "text/plain": [
       "2022-04-05 15:15:00+05:30    17950.550781\n",
       "2022-04-07 14:15:00+05:30    17645.449219\n",
       "2022-04-11 15:15:00+05:30    17682.449219\n",
       "2022-04-18 10:15:00+05:30    17152.949219\n",
       "2022-04-19 15:15:00+05:30    16962.250000\n",
       "2022-04-22 10:15:00+05:30    17228.250000\n",
       "2022-04-27 11:15:00+05:30    17066.900391\n",
       "2022-04-29 15:15:00+05:30    17072.050781\n",
       "Name: Open, dtype: float64"
      ]
     },
     "execution_count": 202,
     "metadata": {},
     "output_type": "execute_result"
    }
   ],
   "source": [
    "SellPrice"
   ]
  },
  {
   "cell_type": "code",
   "execution_count": 203,
   "id": "51c36dc0",
   "metadata": {},
   "outputs": [],
   "source": [
    "if SellPrice.index[0] < BuyPrice.index[0]:\n",
    "    SellPrice = SellPrice.drop(SellPrice.index[0])\n",
    "elif BuyPrice.index[-1] > SellPrice.index[-1]:\n",
    "    BuyPrice = BuyPrice.drop(BuyPrice.index[-1])"
   ]
  },
  {
   "cell_type": "code",
   "execution_count": 204,
   "id": "3def25a1",
   "metadata": {},
   "outputs": [
    {
     "data": {
      "text/plain": [
       "8"
      ]
     },
     "execution_count": 204,
     "metadata": {},
     "output_type": "execute_result"
    }
   ],
   "source": [
    "len(BuyPrice)"
   ]
  },
  {
   "cell_type": "code",
   "execution_count": 205,
   "id": "e919c5b4",
   "metadata": {},
   "outputs": [],
   "source": [
    "profitpercent = []\n",
    "\n",
    "for i in range(len(SellPrice)):\n",
    "    profit = ((SellPrice[i] - BuyPrice[i])/BuyPrice[i])\n",
    "    profitpercent.append(100*profit)\n",
    "    "
   ]
  },
  {
   "cell_type": "code",
   "execution_count": 206,
   "id": "f6c19ba7",
   "metadata": {},
   "outputs": [
    {
     "data": {
      "text/plain": [
       "8"
      ]
     },
     "execution_count": 206,
     "metadata": {},
     "output_type": "execute_result"
    }
   ],
   "source": [
    "len(SellPrice)"
   ]
  },
  {
   "cell_type": "code",
   "execution_count": 207,
   "id": "92b8b2a9",
   "metadata": {},
   "outputs": [
    {
     "data": {
      "text/plain": [
       "[-0.1371246972010698,\n",
       " -0.5842599200115763,\n",
       " 0.020637358524168134,\n",
       " -2.5395096674131126,\n",
       " -1.7191036081598066,\n",
       " 0.6364116160008543,\n",
       " -0.47381203307162434,\n",
       " -0.1932103809958904]"
      ]
     },
     "execution_count": 207,
     "metadata": {},
     "output_type": "execute_result"
    }
   ],
   "source": [
    "profitpercent"
   ]
  },
  {
   "cell_type": "code",
   "execution_count": 208,
   "id": "7ddd1ce5",
   "metadata": {},
   "outputs": [
    {
     "data": {
      "text/plain": [
       "range(0, 8)"
      ]
     },
     "execution_count": 208,
     "metadata": {},
     "output_type": "execute_result"
    }
   ],
   "source": [
    "range(len(profitpercent))"
   ]
  },
  {
   "cell_type": "code",
   "execution_count": 209,
   "id": "91d49121",
   "metadata": {},
   "outputs": [],
   "source": [
    "for i in range(len(profitpercent)):\n",
    "    profitpercent[i] = np.round(profitpercent[i], 2)"
   ]
  },
  {
   "cell_type": "code",
   "execution_count": 210,
   "id": "bc8127a4",
   "metadata": {},
   "outputs": [
    {
     "data": {
      "text/plain": [
       "[-0.14, -0.58, 0.02, -2.54, -1.72, 0.64, -0.47, -0.19]"
      ]
     },
     "execution_count": 210,
     "metadata": {},
     "output_type": "execute_result"
    }
   ],
   "source": [
    "profitpercent"
   ]
  },
  {
   "cell_type": "code",
   "execution_count": 211,
   "id": "1ff473fc",
   "metadata": {},
   "outputs": [
    {
     "name": "stdout",
     "output_type": "stream",
     "text": [
      "95091.65660001712\n",
      "-4.9083433999828845\n"
     ]
    }
   ],
   "source": [
    "x=100000\n",
    "for i in range(len(profitpercent)):\n",
    "#     x = x(1+((profitpercent[i])/100))\n",
    "    y = x*profitpercent[i]/100\n",
    "    x = x + y\n",
    "    \n",
    "print(x)    \n",
    "overallReturn = ((x-100000)/100000)*100\n",
    "print(overallReturn)\n",
    "    "
   ]
  },
  {
   "cell_type": "code",
   "execution_count": null,
   "id": "a8633606",
   "metadata": {},
   "outputs": [],
   "source": []
  },
  {
   "cell_type": "code",
   "execution_count": null,
   "id": "8739a24e",
   "metadata": {},
   "outputs": [],
   "source": []
  }
 ],
 "metadata": {
  "kernelspec": {
   "display_name": "Python 3 (ipykernel)",
   "language": "python",
   "name": "python3"
  },
  "language_info": {
   "codemirror_mode": {
    "name": "ipython",
    "version": 3
   },
   "file_extension": ".py",
   "mimetype": "text/x-python",
   "name": "python",
   "nbconvert_exporter": "python",
   "pygments_lexer": "ipython3",
   "version": "3.9.4"
  }
 },
 "nbformat": 4,
 "nbformat_minor": 5
}
